{
 "cells": [
  {
   "cell_type": "markdown",
   "metadata": {},
   "source": [
    "# **Python Coding Task**\n",
    "### **Instructions:**\n",
    "1. Write a function called `createList` that takes a number \\( N \\) as input and builds a list with that many numbers from 1 to \\( N \\). (1 mark)\n",
    "    - Example: If \\( N = 5 \\), the list should be `[1, 2, 3, 4, 5]`."
   ]
  },
  {
   "cell_type": "code",
   "execution_count": null,
   "metadata": {},
   "outputs": [],
   "source": [
    "# Your code here for Task 1\n",
    "def createList(N):\n",
    "    # Function to create a list with numbers from 1 to N"
   ]
  },
  {
   "cell_type": "markdown",
   "metadata": {},
   "source": [
    "---\n",
    "2. Call your function `createList` to create a list with 7 numbers and print the list that it returns. (1 mark)"
   ]
  },
  {
   "cell_type": "code",
   "execution_count": null,
   "metadata": {},
   "outputs": [],
   "source": [
    "# Your code here for Task 2"
   ]
  },
  {
   "cell_type": "markdown",
   "metadata": {},
   "source": [
    "---\n",
    "3. Print the average of all the values in the list using string formatting (f-strings). (1 mark)"
   ]
  },
  {
   "cell_type": "code",
   "execution_count": null,
   "metadata": {},
   "outputs": [],
   "source": [
    "# Your code here for Task 3"
   ]
  },
  {
   "cell_type": "markdown",
   "metadata": {},
   "source": [
    "---\n",
    "4. Print the list in reverse order. (2 marks)"
   ]
  },
  {
   "cell_type": "code",
   "execution_count": null,
   "metadata": {},
   "outputs": [],
   "source": [
    "# Your code here for Task 4"
   ]
  },
  {
   "cell_type": "markdown",
   "metadata": {},
   "source": [
    "---\n",
    "5. Write a second function called `getEverySecondElement` that returns every second number in the list. The function should return the result without printing anything itself. (The printing must be done after calling the function, outside of it.) (2 marks)\n"
   ]
  },
  {
   "cell_type": "code",
   "execution_count": null,
   "metadata": {},
   "outputs": [],
   "source": [
    "# Your code here for Task 5\n",
    "def getEverySecondElement(lst):\n",
    "    # Function to get every second element in the list\n",
    "\n",
    "# Printing outside the function"
   ]
  },
  {
   "cell_type": "markdown",
   "metadata": {},
   "source": [
    "---\n",
    "6. Write a third function called `doubleEvenNumbers` that doubles the value of all even numbers in the list and returns the modified list. (3 marks)\n",
    "- Example: If the list is `[1, 2, 3, 4, 5]`, the function should return `[1, 4, 3, 8, 5]`.\n",
    "- Note: List comprehension or a for-loop could be helpful here.\n"
   ]
  },
  {
   "cell_type": "code",
   "execution_count": null,
   "metadata": {},
   "outputs": [],
   "source": [
    "# Your code here for Task 6\n",
    "def doubleEvenNumbers(lst):\n",
    "    # Function to double even numbers in the list"
   ]
  }
 ],
 "metadata": {
  "kernelspec": {
   "display_name": "Python 3",
   "language": "python",
   "name": "python3"
  },
  "language_info": {
   "codemirror_mode": {
    "name": "ipython",
    "version": 3
   },
   "file_extension": ".py",
   "mimetype": "text/x-python",
   "name": "python",
   "nbconvert_exporter": "python",
   "version": "3.8.5"
  }
 },
 "nbformat": 4,
 "nbformat_minor": 4
}
